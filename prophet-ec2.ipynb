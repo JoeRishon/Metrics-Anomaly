{
 "cells": [
  {
   "cell_type": "code",
   "execution_count": null,
   "metadata": {},
   "outputs": [],
   "source": [
    "# default_exp core"
   ]
  },
  {
   "cell_type": "code",
   "execution_count": null,
   "metadata": {},
   "outputs": [
    {
     "data": {
      "text/plain": [
       "'0.7.1'"
      ]
     },
     "execution_count": null,
     "metadata": {},
     "output_type": "execute_result"
    }
   ],
   "source": [
    "import fbprophet\n",
    "fbprophet.__version__"
   ]
  },
  {
   "cell_type": "code",
   "execution_count": null,
   "metadata": {},
   "outputs": [],
   "source": []
  }
 ],
 "metadata": {
  "kernelspec": {
   "display_name": "Python 3.8.5 64-bit ('time': conda)",
   "metadata": {
    "interpreter": {
     "hash": "583b44d3420b350feae0a51e433242e37c0cc61bb43e607324e0838d29431e5c"
    }
   },
   "name": "Python 3.8.5 64-bit ('time': conda)"
  }
 },
 "nbformat": 4,
 "nbformat_minor": 2
}
